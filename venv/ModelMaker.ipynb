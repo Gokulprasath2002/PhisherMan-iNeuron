{
 "cells": [
  {
   "cell_type": "code",
   "execution_count": 4,
   "id": "1dbc3f1c",
   "metadata": {},
   "outputs": [],
   "source": [
    "import numpy as np\n",
    "import pandas as pd\n",
    "from sklearn.ensemble import RandomForestClassifier\n",
    "import pickle\n",
    "import bz2\n",
    "fullData = pd.read_csv(\"dataset_full.csv\")\n",
    "selectedFeature = ['qty_slash_url', 'length_url', 'qty_dot_domain', 'qty_vowels_domain', 'domain_length', 'qty_hyphen_directory', 'qty_equal_directory',  'qty_percent_directory', 'directory_length', 'qty_dot_file', 'qty_asterisk_file', 'file_length', 'time_response', 'asn_ip', 'time_domain_activation', 'time_domain_expiration', 'qty_nameservers', 'qty_mx_servers', 'ttl_hostname','phishing']\n",
    "selectedData = fullData.filter(selectedFeature)\n",
    "X=selectedData.iloc[:,0:len(selectedData.columns)-1]\n",
    "Y=selectedData.iloc[:,-1]\n",
    "randomForestClassifier = RandomForestClassifier(n_estimators=78)\n",
    "randomForestClassifier.fit(X.values,Y.values)\n",
    "def compressed_pickle(title, data):\n",
    "    with bz2.BZ2File(title + '.pbz2', 'w') as f:\n",
    "        pickle.dump(data, f)\n",
    "compressed_pickle('filename', randomForestClassifier)"
   ]
  }
 ],
 "metadata": {
  "kernelspec": {
   "display_name": "Python 3 (ipykernel)",
   "language": "python",
   "name": "python3"
  },
  "language_info": {
   "codemirror_mode": {
    "name": "ipython",
    "version": 3
   },
   "file_extension": ".py",
   "mimetype": "text/x-python",
   "name": "python",
   "nbconvert_exporter": "python",
   "pygments_lexer": "ipython3",
   "version": "3.9.12"
  }
 },
 "nbformat": 4,
 "nbformat_minor": 5
}
